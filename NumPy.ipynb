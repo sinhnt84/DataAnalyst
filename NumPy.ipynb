{
  "nbformat": 4,
  "nbformat_minor": 0,
  "metadata": {
    "colab": {
      "provenance": [],
      "include_colab_link": true
    },
    "kernelspec": {
      "name": "python3",
      "display_name": "Python 3"
    },
    "language_info": {
      "name": "python"
    }
  },
  "cells": [
    {
      "cell_type": "markdown",
      "metadata": {
        "id": "view-in-github",
        "colab_type": "text"
      },
      "source": [
        "<a href=\"https://colab.research.google.com/github/sinhnt84/DataAnalyst/blob/main/NumPy.ipynb\" target=\"_parent\"><img src=\"https://colab.research.google.com/assets/colab-badge.svg\" alt=\"Open In Colab\"/></a>"
      ]
    },
    {
      "cell_type": "code",
      "execution_count": null,
      "metadata": {
        "id": "do9YuseWxbqE"
      },
      "outputs": [],
      "source": [
        "import numpy as np\n",
        "array_2d = np.array([[1, 2, 3, 4],\n",
        "                     [5, 6, 7, 8],\n",
        "                     [9, 10, 11, 12]])\n",
        "rowA,colA = array_2d.shape"
      ]
    },
    {
      "cell_type": "code",
      "source": [
        "## Tính tổng ma trận\n",
        "sum = 0\n",
        "for i in range(rowA):\n",
        "  for j in range(colA):\n",
        "    sum += array_2d[i][j]\n",
        "sum\n"
      ],
      "metadata": {
        "colab": {
          "base_uri": "https://localhost:8080/"
        },
        "id": "8KUPJHwGx1i2",
        "outputId": "b6dd2e05-0df4-462c-f1a2-c38713e0320d"
      },
      "execution_count": null,
      "outputs": [
        {
          "output_type": "execute_result",
          "data": {
            "text/plain": [
              "78"
            ]
          },
          "metadata": {},
          "execution_count": 16
        }
      ]
    },
    {
      "cell_type": "code",
      "source": [
        "## Tính tổng ma trận\n",
        "np.sum(array_2d)"
      ],
      "metadata": {
        "colab": {
          "base_uri": "https://localhost:8080/"
        },
        "id": "vK7Lpn0r33Ed",
        "outputId": "c39ca101-230f-48ee-dbd5-11e907a3277b"
      },
      "execution_count": null,
      "outputs": [
        {
          "output_type": "execute_result",
          "data": {
            "text/plain": [
              "78"
            ]
          },
          "metadata": {},
          "execution_count": 15
        }
      ]
    },
    {
      "cell_type": "code",
      "source": [
        "## Tính tổng các hàng\n",
        "sumR = 0\n",
        "for i in range(rowA):\n",
        "  for j in range(colA):\n",
        "    sumR += array_2d[i][j]\n",
        "  print(\"Tổng dòng thứ {}: {}\".format(i+1,sumR))\n",
        "  sumR=0"
      ],
      "metadata": {
        "colab": {
          "base_uri": "https://localhost:8080/"
        },
        "id": "OyRDsRZ1zOWE",
        "outputId": "fdfe5c3a-ad15-4589-836d-4aa539a978ca"
      },
      "execution_count": null,
      "outputs": [
        {
          "output_type": "stream",
          "name": "stdout",
          "text": [
            "Tổng dòng thứ 1: 10\n",
            "Tổng dòng thứ 2: 26\n",
            "Tổng dòng thứ 3: 42\n"
          ]
        }
      ]
    },
    {
      "cell_type": "code",
      "source": [
        "##Tính tổng theo hàng trong ma trận(axis = 1)\n",
        "np.sum(array_2d,axis=1)"
      ],
      "metadata": {
        "colab": {
          "base_uri": "https://localhost:8080/"
        },
        "id": "lTQxytKY4JZM",
        "outputId": "1de8450a-f18a-4761-9a5d-b4405ac26a4c"
      },
      "execution_count": null,
      "outputs": [
        {
          "output_type": "execute_result",
          "data": {
            "text/plain": [
              "array([10, 26, 42])"
            ]
          },
          "metadata": {},
          "execution_count": 17
        }
      ]
    },
    {
      "cell_type": "code",
      "source": [
        "## Tính tổng các cột\n",
        "sumC = 0\n",
        "for i in range(colA):\n",
        "  for j in range(rowA):\n",
        "    sumC += array_2d[j][i]\n",
        "  print(\"Tổng cột thứ {} : {}\".format(i+1,sumC))\n",
        "  sumC=0"
      ],
      "metadata": {
        "colab": {
          "base_uri": "https://localhost:8080/"
        },
        "id": "Np-sb71o0D3V",
        "outputId": "07a40a47-b33d-473d-d2fc-d2f508a76a0b"
      },
      "execution_count": null,
      "outputs": [
        {
          "output_type": "stream",
          "name": "stdout",
          "text": [
            "Tổng cột thứ 1 : 15\n",
            "Tổng cột thứ 2 : 18\n",
            "Tổng cột thứ 3 : 21\n",
            "Tổng cột thứ 4 : 24\n"
          ]
        }
      ]
    },
    {
      "cell_type": "code",
      "source": [
        "## Tính tổng các cột trong ma trận (axis = 0)\n",
        "np.sum(array_2d,axis=0)"
      ],
      "metadata": {
        "colab": {
          "base_uri": "https://localhost:8080/"
        },
        "id": "j4mDrmFg0_Gv",
        "outputId": "8b1d529e-300c-46dc-8ea7-e90c6d802169"
      },
      "execution_count": null,
      "outputs": [
        {
          "output_type": "execute_result",
          "data": {
            "text/plain": [
              "array([15, 18, 21, 24])"
            ]
          },
          "metadata": {},
          "execution_count": 18
        }
      ]
    },
    {
      "cell_type": "code",
      "source": [
        "## Hiển thị các thành phố có dân cư lớn hơn hoặc bằng 10000\n",
        "A =  np.array([['Hanoi', 10000],['Danang', 3000], ['HoChiMinh', 12000], ['HaiPhong', 6000]])\n",
        "mask = A[:,1].astype(int) >= 10000\n",
        "A[mask]"
      ],
      "metadata": {
        "colab": {
          "base_uri": "https://localhost:8080/"
        },
        "id": "6kAHaiLR4mJI",
        "outputId": "19254d60-acbf-441d-c859-f3c9597f5ca4"
      },
      "execution_count": null,
      "outputs": [
        {
          "output_type": "execute_result",
          "data": {
            "text/plain": [
              "array([['Hanoi', '10000'],\n",
              "       ['HoChiMinh', '12000']], dtype='<U21')"
            ]
          },
          "metadata": {},
          "execution_count": 27
        }
      ]
    },
    {
      "cell_type": "code",
      "source": [
        "A =  np.array([['Hanoi', 10000],['Danang', 3000], ['HoChiMinh', 12000], ['HaiPhong', 6000]])\n",
        "print(A)"
      ],
      "metadata": {
        "colab": {
          "base_uri": "https://localhost:8080/"
        },
        "id": "nQmvqdcN7z0p",
        "outputId": "b8115705-cff5-41c3-fa17-561da8833dc7"
      },
      "execution_count": null,
      "outputs": [
        {
          "output_type": "stream",
          "name": "stdout",
          "text": [
            "[['Hanoi' '10000']\n",
            " ['Danang' '3000']\n",
            " ['HoChiMinh' '12000']\n",
            " ['HaiPhong' '6000']]\n"
          ]
        }
      ]
    },
    {
      "cell_type": "code",
      "source": [
        "dataset = np.array([\n",
        "['Quần thun', 10, 50000],\n",
        "['Áo gió', 5, 90000],\n",
        "['Tất', 50, 8000],\n",
        "['Giày', 1, 200000],\n",
        "['Mũ', 1, 30000],\n",
        "['Quần jean', 3, 100000],\n",
        "['Áo len', 10, 100000],\n",
        "])\n"
      ],
      "metadata": {
        "id": "y_dpdFUc9BE9"
      },
      "execution_count": null,
      "outputs": []
    },
    {
      "cell_type": "code",
      "source": [
        "##Tính số lượng sản phẩm trong dataset\n",
        "Total = np.sum(dataset[:,1].astype(int))\n",
        "Total"
      ],
      "metadata": {
        "colab": {
          "base_uri": "https://localhost:8080/"
        },
        "id": "qXajio1d90te",
        "outputId": "e44f4094-569f-4a6b-c6b0-06303d686e3b"
      },
      "execution_count": null,
      "outputs": [
        {
          "output_type": "execute_result",
          "data": {
            "text/plain": [
              "80"
            ]
          },
          "metadata": {},
          "execution_count": 30
        }
      ]
    },
    {
      "cell_type": "code",
      "source": [
        "##Lấy ra các sản phẩm có đơn giá lớn hơn 50000\n",
        "mask = dataset[:,2].astype(int) > 50000\n",
        "dataset[mask]"
      ],
      "metadata": {
        "colab": {
          "base_uri": "https://localhost:8080/"
        },
        "id": "Y3LRlyxb95eU",
        "outputId": "86bca213-0b35-4c5f-810e-6c68863b618a"
      },
      "execution_count": null,
      "outputs": [
        {
          "output_type": "execute_result",
          "data": {
            "text/plain": [
              "array([['Áo gió', '5', '90000'],\n",
              "       ['Giày', '1', '200000'],\n",
              "       ['Quần jean', '3', '100000'],\n",
              "       ['Áo len', '10', '100000']], dtype='<U21')"
            ]
          },
          "metadata": {},
          "execution_count": 32
        }
      ]
    },
    {
      "cell_type": "code",
      "source": [
        "##Lấy ra các sản phẩm đã có doanh thu hơn 300000.\n",
        "products = dataset[:,1].astype(int)*dataset[:,2].astype(int) > 300000\n",
        "dataset[products]"
      ],
      "metadata": {
        "colab": {
          "base_uri": "https://localhost:8080/"
        },
        "id": "IbO6dNnc99Jt",
        "outputId": "920a3d22-7551-429c-c467-1eae4b5c2de9"
      },
      "execution_count": null,
      "outputs": [
        {
          "output_type": "execute_result",
          "data": {
            "text/plain": [
              "array([['Quần thun', '10', '50000'],\n",
              "       ['Áo gió', '5', '90000'],\n",
              "       ['Tất', '50', '8000'],\n",
              "       ['Áo len', '10', '100000']], dtype='<U21')"
            ]
          },
          "metadata": {},
          "execution_count": 36
        }
      ]
    },
    {
      "cell_type": "code",
      "source": [
        "## Bài tập về nhà\n"
      ],
      "metadata": {
        "id": "qTg2j4m3_TtH"
      },
      "execution_count": null,
      "outputs": []
    }
  ]
}